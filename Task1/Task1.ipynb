{
 "cells": [
  {
   "cell_type": "markdown",
   "id": "18e1db97",
   "metadata": {},
   "source": [
    "## Задание № 1"
   ]
  },
  {
   "cell_type": "code",
   "execution_count": 1,
   "id": "52adf363",
   "metadata": {},
   "outputs": [
    {
     "name": "stdout",
     "output_type": "stream",
     "text": [
      "['{\"user_id\": \"user_id\", \"category\": \"category\"}\\n', '{\"category\": \"Продукты\", \"user_id\": \"1840e0b9d4\"}\\n', '{\"user_id\": \"4e4f90fcfb\", \"category\": \"Электроника\"}\\n', '{\"user_id\": \"afea8d72fc\", \"category\": \"Электроника\"}\\n', '{\"user_id\": \"373a6055fe\", \"category\": \"Бытовая техника\"}\\n']\n"
     ]
    }
   ],
   "source": [
    "# Просмотрим первые несколько строк файла для ознакомления с его структурой\n",
    "\n",
    "with open('Data/purchase_log.txt', encoding='utf-8') as f:\n",
    "    print([next(f) for x in range(5)])"
   ]
  },
  {
   "cell_type": "code",
   "execution_count": 2,
   "id": "e292be95-f9b4-4777-af0c-0fb17989308d",
   "metadata": {},
   "outputs": [
    {
     "name": "stdout",
     "output_type": "stream",
     "text": [
      "99517\n"
     ]
    }
   ],
   "source": [
    "# Для формирования словаря из файла пропустим первую неинформативную строку с названием столбцов\n",
    "\n",
    "# Импортируемые модуль json для работы с файлом\n",
    "\n",
    "import json\n",
    "\n",
    "# Создадим пустой словарь\n",
    "purchases = {}\n",
    "\n",
    "# С помощью контекстного менеджера откроем файл и применяя функцию enumerate устраним первую строку из формируемого словаря\n",
    "with open('Data/purchase_log.txt', encoding='utf-8') as file:\n",
    "    for line_num, line in enumerate(file, 1):\n",
    "        if line.strip() and line_num > 1: # Рассматриваем только строки без пробелов без учета первой строки\n",
    "            data = json.loads(line) # Формируем словарь data\n",
    "            user_id = data.get('user_id') # Выбираем нужные нам элементым словаря user_id и category\n",
    "            category = data.get('category')\n",
    "            if user_id and category: # Проверка на наличие ключей и значений в словарях\n",
    "                purchases[user_id] = category # Формируем новый словарь\n",
    "            \n",
    "print(len(purchases))          \n",
    "        "
   ]
  },
  {
   "cell_type": "code",
   "execution_count": 3,
   "id": "2c2da8b9-c588-44ba-91e9-953a81b882b9",
   "metadata": {},
   "outputs": [
    {
     "name": "stdout",
     "output_type": "stream",
     "text": [
      "1840e0b9d4 Продукты\n",
      "4e4f90fcfb Электроника\n",
      "afea8d72fc Электроника\n",
      "373a6055fe Бытовая техника\n",
      "9b2ab046f3 Электроника\n"
     ]
    }
   ],
   "source": [
    "# Проверка содержимого словаря\n",
    "list_of_keys = list(purchases.keys()) # Сформируем список ключей словаря purchases\n",
    "list_of_values = list(purchases.values()) # Сформируем список значений словаря purchases\n",
    "# Выведем первые пять элементов полученного словаря\n",
    "for i in range(5):\n",
    "    print(list_of_keys[i], purchases[list_of_keys[i]])"
   ]
  }
 ],
 "metadata": {
  "kernelspec": {
   "display_name": "Python 3",
   "language": "python",
   "name": "python3"
  },
  "language_info": {
   "codemirror_mode": {
    "name": "ipython",
    "version": 3
   },
   "file_extension": ".py",
   "mimetype": "text/x-python",
   "name": "python",
   "nbconvert_exporter": "python",
   "pygments_lexer": "ipython3",
   "version": "3.13.7"
  }
 },
 "nbformat": 4,
 "nbformat_minor": 5
}
