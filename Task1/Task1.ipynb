{
 "cells": [
  {
   "cell_type": "markdown",
   "id": "18e1db97",
   "metadata": {},
   "source": [
    "## Задание № 1"
   ]
  },
  {
   "cell_type": "code",
   "execution_count": 1,
   "id": "52adf363",
   "metadata": {},
   "outputs": [
    {
     "name": "stdout",
     "output_type": "stream",
     "text": [
      "['{\"user_id\": \"user_id\", \"category\": \"category\"}\\n', '{\"category\": \"Продукты\", \"user_id\": \"1840e0b9d4\"}\\n', '{\"user_id\": \"4e4f90fcfb\", \"category\": \"Электроника\"}\\n', '{\"user_id\": \"afea8d72fc\", \"category\": \"Электроника\"}\\n', '{\"user_id\": \"373a6055fe\", \"category\": \"Бытовая техника\"}\\n']\n"
     ]
    }
   ],
   "source": [
    "# Просмотрим первые несколько строк файла для ознакомления с его структурой\n",
    "\n",
    "with open('Data/purchase_log.txt', encoding='utf-8') as f:\n",
    "    print([next(f) for x in range(5)])"
   ]
  },
  {
   "cell_type": "code",
   "execution_count": 2,
   "id": "e292be95-f9b4-4777-af0c-0fb17989308d",
   "metadata": {},
   "outputs": [
    {
     "name": "stdout",
     "output_type": "stream",
     "text": [
      "99517\n"
     ]
    }
   ],
   "source": [
    "# Для формирования словаря из файла пропустим первую неинформативную строку с названием столбцов\n",
    "\n",
    "# Импортируемые модуль json для работы с файлом\n",
    "\n",
    "import json\n",
    "\n",
    "# Создадим пустой словарь\n",
    "purchases = {}\n",
    "\n",
    "# С помощью контекстного менеджера откроем файл и применяя функцию enumerate устраним первую строку из формируемого словаря\n",
    "with open('Data/purchase_log.txt', encoding='utf-8') as file:\n",
    "    for line_num, line in enumerate(file, 1):\n",
    "        if line.strip() and line_num > 1: # Рассматриваем только строки без пробелов без учета первой строки\n",
    "            data = json.loads(line) # Формируем словарь data\n",
    "            user_id = data.get('user_id') # Выбираем нужные нам элементым словаря user_id и category\n",
    "            category = data.get('category')\n",
    "            if user_id and category: # Проверка на наличие ключей и значений в словарях\n",
    "                purchases[user_id] = category # Формируем новый словарь\n",
    "            \n",
    "print(len(purchases))          \n",
    "        "
   ]
  },
  {
   "cell_type": "code",
   "execution_count": 3,
   "id": "2c2da8b9-c588-44ba-91e9-953a81b882b9",
   "metadata": {},
   "outputs": [
    {
     "name": "stdout",
     "output_type": "stream",
     "text": [
      "1840e0b9d4 Продукты\n",
      "4e4f90fcfb Электроника\n",
      "afea8d72fc Электроника\n",
      "373a6055fe Бытовая техника\n",
      "9b2ab046f3 Электроника\n"
     ]
    }
   ],
   "source": [
    "# Проверка содержимого словаря\n",
    "list_of_keys = list(purchases.keys()) # Сформируем список ключей словаря purchases\n",
    "list_of_values = list(purchases.values()) # Сформируем список значений словаря purchases\n",
    "# Выведем первые пять элементов полученного словаря\n",
    "for i in range(5):\n",
    "    print(list_of_keys[i], purchases[list_of_keys[i]])"
   ]
  },
  {
   "cell_type": "markdown",
   "id": "37ed9276",
   "metadata": {},
   "source": [
    "## Задание № 2"
   ]
  },
  {
   "cell_type": "code",
   "execution_count": 107,
   "id": "6aab7a22",
   "metadata": {},
   "outputs": [],
   "source": [
    "# На базе файла purchase_log.txt создадим словарь покупок purchases\n",
    "\n",
    "import json\n",
    "import csv\n",
    "purchases = {}\n",
    "with open('Data/purchase_log.txt', 'r', encoding='utf8') as purchases_file:\n",
    "    next(purchases_file)  # Пропускаем заголовок\n",
    "    for line in purchases_file:\n",
    "        purchases[json.loads(line.strip())['user_id']] = json.loads(line.strip())['category']\n",
    "\n"
   ]
  },
  {
   "cell_type": "code",
   "execution_count": 112,
   "id": "4cd53802",
   "metadata": {},
   "outputs": [],
   "source": [
    "import itertools\n",
    "# Создадим заголовки нового файла csv (funnel.csv)\n",
    "headers = ['user_id', 'source', 'category']\n",
    "list_keys = list(purchases.keys()) # Выберем ключи словаря purchases, которые соответствуют ID покупателя\n",
    "with open('Data/visit_log (2).csv', 'r', encoding='utf8') as file_visit: # открываем файл логов для чтения\n",
    "    with open('Data/funnel.csv', 'w', newline='') as file_funnel: # Создаем файл funnel.csv\n",
    "        next(file_visit) # Пропускаем заголовки\n",
    "        reader = csv.reader(file_visit) # Ччтаем файл\n",
    "        limited_reader = itertools.islice(reader, 100) # Возьмем первые 100 записей в логе, применив модуль itertools\n",
    "        writer = csv.writer(file_funnel) # Создаем объект для записи\n",
    "        writer.writerow(headers) # Записываем заголовки\n",
    "        for row in limited_reader: # проходимся по файлу wrapper\n",
    "            for el in list_keys: # проходимся по ключам словаря \n",
    "                if el in row: # проверка наличия записи о покупателе в логе\n",
    "                    row.append(purchases[el]) # добавление столбца из словаря покупок\n",
    "                    writer.writerow(row)    \n",
    "                           \n",
    "                  \n",
    "    \n",
    "              \n",
    "                "
   ]
  },
  {
   "cell_type": "code",
   "execution_count": 114,
   "id": "e63baef3",
   "metadata": {},
   "outputs": [
    {
     "name": "stdout",
     "output_type": "stream",
     "text": [
      "user_id,source,category\n",
      "\n",
      "1840e0b9d4,other,Продукты\n",
      "\n",
      "4e4f90fcfb,context,Электроника\n",
      "\n",
      "afea8d72fc,other,Электроника\n",
      "\n"
     ]
    }
   ],
   "source": [
    "with open('Data/funnel.csv', 'r') as file:\n",
    "    for el in file:\n",
    "        print(el)      "
   ]
  }
 ],
 "metadata": {
  "kernelspec": {
   "display_name": "Python 3",
   "language": "python",
   "name": "python3"
  },
  "language_info": {
   "codemirror_mode": {
    "name": "ipython",
    "version": 3
   },
   "file_extension": ".py",
   "mimetype": "text/x-python",
   "name": "python",
   "nbconvert_exporter": "python",
   "pygments_lexer": "ipython3",
   "version": "3.13.7"
  }
 },
 "nbformat": 4,
 "nbformat_minor": 5
}
