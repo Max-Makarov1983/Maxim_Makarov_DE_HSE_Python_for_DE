{
 "cells": [
  {
   "cell_type": "markdown",
   "id": "c3b7b027",
   "metadata": {},
   "source": [
    "## Задание № 1"
   ]
  },
  {
   "cell_type": "code",
   "execution_count": 4,
   "id": "c1f7bc0a",
   "metadata": {},
   "outputs": [
    {
     "name": "stdout",
     "output_type": "stream",
     "text": [
      "\"The Moscow Times\": 2002-10-02 00:00:00\n",
      "\"The Guardian\": 2013-10-11 00:00:00\n",
      "\"Daily News\": 1977-08-18 00:00:00\n"
     ]
    }
   ],
   "source": [
    "# Для работы с датами импортируем модуль datetime\n",
    "from datetime import datetime\n",
    "\n",
    "# Для каждой газеты создадим строковое представление и шаблон, по которому будет представлена дата\n",
    "# The Moscow Times (Wednesday, October 2, 2002)\n",
    "moscow_times_text = \"Wednesday, October 2, 2002\"\n",
    "moscow_times_pattern = \"%A, %B %d, %Y\"\n",
    "moscow_times_date = datetime.strptime(moscow_times_text, moscow_times_pattern) # воспользуемся функцией strptime\n",
    "\n",
    "# The Guardian (Friday, 11.10.13)\n",
    "guardian_text = \"Friday, 11.10.13\"\n",
    "guardian_pattern = \"%A, %d.%m.%y\"\n",
    "guardian_date = datetime.strptime(guardian_text, guardian_pattern)\n",
    "\n",
    "# Daily News (Thursday, 18 August 1977)\n",
    "daily_news_text = \"Thursday, 18 August 1977\"\n",
    "daily_news_pattern = \"%A, %d %B %Y\"\n",
    "daily_news_date = datetime.strptime(daily_news_text, daily_news_pattern)\n",
    "\n",
    "# Выведем полученные результаты\n",
    "print(f'\"The Moscow Times\": {moscow_times_date}')\n",
    "print(f'\"The Guardian\": {guardian_date}')\n",
    "print(f'\"Daily News\": {daily_news_date}')"
   ]
  },
  {
   "cell_type": "markdown",
   "id": "108b6501",
   "metadata": {},
   "source": [
    "## Задание № 2"
   ]
  },
  {
   "cell_type": "code",
   "execution_count": null,
   "id": "e73f635a",
   "metadata": {},
   "outputs": [],
   "source": [
    "# Импортируемые модуль datetime и классы datetime и timedelta\n",
    "from datetime import datetime, timedelta\n",
    "\n",
    "# Создадим функция, принимающую на вход две даты - даты начала и конца периода\n",
    "def date_range(start_date, end_date):\n",
    "    \"\"\"\n",
    "    Функция возвращает список дат за период от start_date до end_date включительно.\n",
    "\n",
    "    \"\"\"\n",
    "    start = datetime.strptime(start_date, '%Y-%m-%d')\n",
    "    end = datetime.strptime(end_date, '%Y-%m-%d') \n",
    "    \n",
    "    # В случае, если start_date больше end_date, то выводим пустой список\n",
    "    if start > end:\n",
    "        return []\n",
    "        \n",
    "    # Представим нужный период в виде списка дат\n",
    "    date_list = []\n",
    "    current_date = start # Пусть текущая дата соответствует нашей стартовой дате (счетчкик интервала)\n",
    "   \n",
    "   # В цикле, пока не дойдем до конечной даты, будем генерировать даты с помощью функции strftime по шаблону\n",
    "   # и добавлять полученные даты в список date_list     \n",
    "    while current_date <= end:\n",
    "        date_list.append(current_date.strftime('%Y-%m-%d'))\n",
    "        current_date += timedelta(days=1) # счетувеличиваем счетчк на один день\n",
    "        \n",
    "    return date_list"
   ]
  },
  {
   "cell_type": "code",
   "execution_count": 6,
   "id": "2fdb4ea6",
   "metadata": {},
   "outputs": [
    {
     "name": "stdout",
     "output_type": "stream",
     "text": [
      "['2022-12-10', '2022-12-11', '2022-12-12']\n"
     ]
    }
   ],
   "source": [
    "print(date_range('2022-12-10', '2022-12-12'))"
   ]
  }
 ],
 "metadata": {
  "kernelspec": {
   "display_name": "Python 3",
   "language": "python",
   "name": "python3"
  },
  "language_info": {
   "codemirror_mode": {
    "name": "ipython",
    "version": 3
   },
   "file_extension": ".py",
   "mimetype": "text/x-python",
   "name": "python",
   "nbconvert_exporter": "python",
   "pygments_lexer": "ipython3",
   "version": "3.13.7"
  }
 },
 "nbformat": 4,
 "nbformat_minor": 5
}
